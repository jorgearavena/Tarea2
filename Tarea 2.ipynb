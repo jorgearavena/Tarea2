{
 "cells": [
  {
   "cell_type": "markdown",
   "id": "e6fba437",
   "metadata": {},
   "source": [
    "Solución Parte 1"
   ]
  },
  {
   "cell_type": "code",
   "execution_count": 34,
   "id": "b7e73b7b",
   "metadata": {
    "scrolled": true
   },
   "outputs": [],
   "source": [
    "def ahorro_auto(salario_mensual, proporcion_ahorrada, costo_auto):\n",
    "    pie = 0.2 * costo_auto  \n",
    "    ahorro_actual = salario_mensual * proporcion_ahorrada  \n",
    "    meses = round(pie / ahorro_actual) \n",
    "   \n",
    "    print(f\"Salario mensual: ${salario_mensual} \\nPorcentaje de ahorro: {proporcion_ahorrada} \\nCosto del auto de mis sueños: ${costo_auto} \\nNumero de meses que debo ahorrar: {meses} meses.\")\n",
    "    \n"
   ]
  },
  {
   "cell_type": "code",
   "execution_count": 36,
   "id": "e9ab5c47",
   "metadata": {
    "scrolled": true
   },
   "outputs": [
    {
     "name": "stdout",
     "output_type": "stream",
     "text": [
      "Salario mensual: $1200000 \n",
      "Porcentaje de ahorro: 0.1 \n",
      "Costo del auto de mis sueños: $10000000 \n",
      "Numero de meses que debo ahorrar: 17 meses.\n"
     ]
    }
   ],
   "source": [
    "ahorro_auto(1200000,0.1,10000000)"
   ]
  },
  {
   "cell_type": "markdown",
   "id": "10941e25",
   "metadata": {},
   "source": [
    "Solución Parte 2"
   ]
  },
  {
   "cell_type": "code",
   "execution_count": 38,
   "id": "a4d250d5",
   "metadata": {},
   "outputs": [],
   "source": [
    "def ahorro_auto_inv(salario_mensual, proporcion_ahorrada, costo_auto):\n",
    "    pie = 0.2 * costo_auto  \n",
    "    ahorro_actual = 0\n",
    "    meses=0\n",
    "    r=0.1\n",
    "    while ahorro_actual < pie:\n",
    "        ahorro_actual = salario_mensual*proporcion_ahorrada + ahorro_actual+ ahorro_actual*r\n",
    "        meses = meses+1\n",
    "   \n",
    "    print(f\"Salario mensual: ${salario_mensual} \\nPorcentaje de ahorro: {proporcion_ahorrada} \\nCosto del auto de mis sueños: ${costo_auto} \\nNumero de meses que debo ahorrar: {meses} meses.\")\n",
    "    "
   ]
  },
  {
   "cell_type": "code",
   "execution_count": 39,
   "id": "78787364",
   "metadata": {
    "scrolled": true
   },
   "outputs": [
    {
     "name": "stdout",
     "output_type": "stream",
     "text": [
      "Salario mensual: $1200000 \n",
      "Porcentaje de ahorro: 0.1 \n",
      "Costo del auto de mis sueños: $10000000 \n",
      "Numero de meses que debo ahorrar: 11 meses.\n"
     ]
    }
   ],
   "source": [
    "ahorro_auto_inv(1200000,0.1,10000000)"
   ]
  },
  {
   "cell_type": "markdown",
   "id": "9b2ac188",
   "metadata": {},
   "source": [
    "Solución Parte 3"
   ]
  },
  {
   "cell_type": "code",
   "execution_count": 42,
   "id": "1f3d0f97",
   "metadata": {},
   "outputs": [],
   "source": [
    "def ahorro_auto_aum(salario_mensual, proporcion_ahorrada, costo_auto, proporcion_aumento_salario):\n",
    "    pie = 0.2 * costo_auto\n",
    "    ahorro_actual = 0\n",
    "    meses=0\n",
    "    r=0.1\n",
    "    while ahorro_actual < pie:\n",
    "        ahorro_actual = salario_mensual*proporcion_ahorrada + ahorro_actual+ ahorro_actual*r\n",
    "        meses = meses+1\n",
    "        if meses % 6 == 0:\n",
    "            salario_mensual= salario_mensual*(1+proporcion_aumento_salario)\n",
    "   \n",
    "    print(f\"Salario mensual: ${round(salario_mensual)} \\nPorcentaje de ahorro: {proporcion_ahorrada} \\nCosto del auto de mis sueños: ${costo_auto} \\nNumero de meses que debo ahorrar: {meses} meses.\")\n",
    "    "
   ]
  },
  {
   "cell_type": "code",
   "execution_count": 43,
   "id": "ae2c5734",
   "metadata": {
    "scrolled": true
   },
   "outputs": [
    {
     "name": "stdout",
     "output_type": "stream",
     "text": [
      "Salario mensual: $1800000 \n",
      "Porcentaje de ahorro: 0.1 \n",
      "Costo del auto de mis sueños: $10000000 \n",
      "Numero de meses que debo ahorrar: 10 meses.\n"
     ]
    }
   ],
   "source": [
    "ahorro_auto_aum(1200000,0.1,10000000, 0.5)"
   ]
  }
 ],
 "metadata": {
  "kernelspec": {
   "display_name": "Python 3 (ipykernel)",
   "language": "python",
   "name": "python3"
  },
  "language_info": {
   "codemirror_mode": {
    "name": "ipython",
    "version": 3
   },
   "file_extension": ".py",
   "mimetype": "text/x-python",
   "name": "python",
   "nbconvert_exporter": "python",
   "pygments_lexer": "ipython3",
   "version": "3.10.9"
  }
 },
 "nbformat": 4,
 "nbformat_minor": 5
}
